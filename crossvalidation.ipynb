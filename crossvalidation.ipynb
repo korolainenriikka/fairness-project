{
 "cells": [
  {
   "cell_type": "code",
   "execution_count": 19,
   "id": "132cf1b5",
   "metadata": {},
   "outputs": [],
   "source": [
    "from sklearn.datasets import make_classification\n",
    "from sklearn.ensemble import RandomForestClassifier\n",
    "from sklearn.model_selection import train_test_split, GridSearchCV\n",
    "from sklearn.pipeline import Pipeline\n",
    "from sklearn.preprocessing import StandardScaler\n",
    "\n",
    "from sklearn.metrics import accuracy_score\n",
    "from sklearn.model_selection import cross_val_predict, LeaveOneOut\n",
    "\n",
    "import numpy as np\n",
    "import pandas as pd"
   ]
  },
  {
   "cell_type": "code",
   "execution_count": 84,
   "id": "156f99a4",
   "metadata": {},
   "outputs": [],
   "source": [
    "X = pd.read_csv(\"data/X.csv\", index_col=0).values\n",
    "y = pd.read_csv(\"data/y.csv\", index_col=0)\n",
    "y = y[\"class\"].values"
   ]
  },
  {
   "cell_type": "code",
   "execution_count": 3,
   "id": "45f8946c",
   "metadata": {},
   "outputs": [],
   "source": [
    "# These are the best hyperparameters\n",
    "classifier = RandomForestClassifier(bootstrap=True, class_weight='balanced_subsample', \n",
    "                                    criterion='entropy', max_depth=20, max_features=None,\n",
    "                                    min_samples_leaf=1, min_samples_split=5, n_estimators=100)"
   ]
  },
  {
   "cell_type": "code",
   "execution_count": 13,
   "id": "ea9c081d",
   "metadata": {},
   "outputs": [
    {
     "name": "stdout",
     "output_type": "stream",
     "text": [
      "0.996\n"
     ]
    }
   ],
   "source": [
    "classifier.fit(X, y)\n",
    "\n",
    "# find train accuracy for reference, to compare to loo-cv results\n",
    "pred = classifier.predict(X)\n",
    "print(accuracy_score(y, pred))"
   ]
  },
  {
   "cell_type": "code",
   "execution_count": 28,
   "id": "00c977c7",
   "metadata": {},
   "outputs": [],
   "source": [
    "loo = LeaveOneOut()\n",
    "loo.get_n_splits(X)\n",
    "\n",
    "# Perform leave one out cross-validation\n",
    "cv_results = cross_val_predict(classifier, X, y, cv=loo)\n",
    "\n",
    "# save to csv to avoid re-run\n",
    "pd.DataFrame(cv_results).to_csv('cross_val_predictions.csv')"
   ]
  },
  {
   "cell_type": "code",
   "execution_count": 30,
   "id": "1ab10203",
   "metadata": {},
   "outputs": [
    {
     "name": "stdout",
     "output_type": "stream",
     "text": [
      "Test accuracy:\n",
      "0.77\n"
     ]
    }
   ],
   "source": [
    "print('Test accuracy:')\n",
    "print(accuracy_score(y, cv_results))\n"
   ]
  },
  {
   "cell_type": "markdown",
   "id": "6eaa8c74",
   "metadata": {},
   "source": [
    "This accuracy is not great, but satisfactory given the small amount of data."
   ]
  },
  {
   "cell_type": "code",
   "execution_count": 107,
   "id": "eb880ac2",
   "metadata": {},
   "outputs": [],
   "source": [
    "# Re-read X to get column names\n",
    "X = pd.read_csv(\"data/X.csv\", index_col=0)\n",
    "# Flip y indexing: 1 = credit granted, 0 = no credit granted\n",
    "cv_results = pd.read_csv('cross_val_predictions.csv').iloc[:,1]\n",
    "pred = np.array(pd.DataFrame(cv_results).replace({0:1, 1:0}))"
   ]
  },
  {
   "cell_type": "code",
   "execution_count": 108,
   "id": "5f6b184f",
   "metadata": {},
   "outputs": [
    {
     "name": "stdout",
     "output_type": "stream",
     "text": [
      "Women - men\n",
      "Discriminated group credit grant rate: 0.7193548387096774\n",
      "Other group credit grant rate: 0.7927536231884058\n",
      "Difference: 0.07339878447872838\n",
      "Ratio: 0.9074128678421891\n",
      "\n",
      "Immigrant - non immigrant\n",
      "Discriminated group credit grant rate: 0.7642782969885774\n",
      "Other group credit grant rate: 0.918918918918919\n",
      "Difference: 0.15464062193034156\n",
      "Ratio: 0.8317146173110989\n",
      "\n",
      "Young - old\n",
      "Discriminated group credit grant rate: 0.6473684210526316\n",
      "Other group credit grant rate: 0.7987654320987654\n",
      "Difference: 0.1513970110461338\n",
      "Ratio: 0.8104612381029855\n",
      "\n",
      "Woman immigrant - other\n",
      "Discriminated group credit grant rate: 0.7161716171617162\n",
      "Other group credit grant rate: 0.793400286944046\n",
      "Difference: 0.07722866978232978\n",
      "Ratio: 0.9026611521911684\n",
      "\n",
      "Young immigrant - other\n",
      "Discriminated group credit grant rate: 0.6417112299465241\n",
      "Other group credit grant rate: 0.7995079950799509\n",
      "Difference: 0.15779676513342678\n",
      "Ratio: 0.8026326614561908\n",
      "\n",
      "Young woman - other\n",
      "Discriminated group credit grant rate: 0.6285714285714286\n",
      "Other group credit grant rate: 0.7865921787709497\n",
      "Difference: 0.1580207501995211\n",
      "Ratio: 0.7991071428571429\n",
      "\n",
      "Young woman immigrant - other\n",
      "Discriminated group credit grant rate: 0.625\n",
      "Other group credit grant rate: 0.7868303571428571\n",
      "Difference: 0.1618303571428571\n",
      "Ratio: 0.7943262411347518\n",
      "\n"
     ]
    }
   ],
   "source": [
    "# Implement group fairness measures (assume women being inferiorly treated to men,\n",
    "# immigrant inferiorly treated to nonimmigrant, and young to old (split at 25)).\n",
    "\n",
    "def group_fairness(group_split_condition):\n",
    "    discr_group = X[group_split_condition].index\n",
    "    other_group = X[~group_split_condition].index\n",
    "\n",
    "    # granted credit percentage for the discriminated\n",
    "    discr_group_rate = pred[discr_group].sum() / pred[discr_group].size\n",
    "    other_group_rate = pred[other_group].sum() / pred[other_group].size\n",
    "    print('Discriminated group credit grant rate: {}'.format(discr_group_rate))\n",
    "    print('Other group credit grant rate: {}'.format(other_group_rate))\n",
    "    print('Difference: {}'.format(other_group_rate-discr_group_rate))\n",
    "    print('Ratio: {}'.format(discr_group_rate/other_group_rate))\n",
    "    print()\n",
    "\n",
    "female_condition = X['Sex'] == 1\n",
    "immigrant_condition = X['foreign worker'] == 1\n",
    "young_condition = X['Age'] <= 25\n",
    "\n",
    "print('Women - men')\n",
    "group_fairness(female_condition)\n",
    "\n",
    "# immigrant - not immigrant\n",
    "print('Immigrant - non immigrant')\n",
    "group_fairness(immigrant_condition)\n",
    "\n",
    "# young - old\n",
    "print('Young - old')\n",
    "group_fairness(young_condition)\n",
    "\n",
    "# Intersection groups\n",
    "\n",
    "# woman immigrant - other\n",
    "print('Woman immigrant - other')\n",
    "group_fairness(female_condition & immigrant_condition)\n",
    "\n",
    "# young immigrant - other\n",
    "print('Young immigrant - other')\n",
    "group_fairness(young_condition & immigrant_condition)\n",
    "\n",
    "# young woman - other\n",
    "print('Young woman - other')\n",
    "group_fairness(young_condition & female_condition)\n",
    "\n",
    "# young woman immigrant - other\n",
    "print('Young woman immigrant - other')\n",
    "group_fairness(female_condition & young_condition & immigrant_condition)\n"
   ]
  },
  {
   "cell_type": "code",
   "execution_count": null,
   "id": "4eed3071",
   "metadata": {},
   "outputs": [],
   "source": []
  }
 ],
 "metadata": {
  "kernelspec": {
   "display_name": "Python 3 (ipykernel)",
   "language": "python",
   "name": "python3"
  },
  "language_info": {
   "codemirror_mode": {
    "name": "ipython",
    "version": 3
   },
   "file_extension": ".py",
   "mimetype": "text/x-python",
   "name": "python",
   "nbconvert_exporter": "python",
   "pygments_lexer": "ipython3",
   "version": "3.8.8"
  },
  "varInspector": {
   "cols": {
    "lenName": 16,
    "lenType": 16,
    "lenVar": 40
   },
   "kernels_config": {
    "python": {
     "delete_cmd_postfix": "",
     "delete_cmd_prefix": "del ",
     "library": "var_list.py",
     "varRefreshCmd": "print(var_dic_list())"
    },
    "r": {
     "delete_cmd_postfix": ") ",
     "delete_cmd_prefix": "rm(",
     "library": "var_list.r",
     "varRefreshCmd": "cat(var_dic_list()) "
    }
   },
   "types_to_exclude": [
    "module",
    "function",
    "builtin_function_or_method",
    "instance",
    "_Feature"
   ],
   "window_display": false
  }
 },
 "nbformat": 4,
 "nbformat_minor": 5
}
