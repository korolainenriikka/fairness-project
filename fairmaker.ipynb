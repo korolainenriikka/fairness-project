{
 "cells": [
  {
   "cell_type": "code",
   "execution_count": 178,
   "id": "7aa7af61",
   "metadata": {},
   "outputs": [],
   "source": [
    "from sklearn.datasets import make_classification\n",
    "from sklearn.ensemble import RandomForestClassifier\n",
    "from sklearn.model_selection import train_test_split, GridSearchCV\n",
    "from sklearn.pipeline import Pipeline\n",
    "from sklearn.preprocessing import StandardScaler\n",
    "\n",
    "from sklearn.metrics import accuracy_score\n",
    "from sklearn.model_selection import cross_val_predict, LeaveOneOut\n",
    "\n",
    "import numpy as np\n",
    "import pandas as pd\n",
    "import random\n",
    "import math\n",
    "from tqdm.auto import tqdm"
   ]
  },
  {
   "cell_type": "code",
   "execution_count": 175,
   "id": "049455f9",
   "metadata": {},
   "outputs": [],
   "source": [
    "dfX = pd.read_csv(\"data/X.csv\", index_col=0)\n",
    "X = df.values\n",
    "dfY = pd.read_csv(\"data/y.csv\", index_col=0)\n",
    "y = dfY[\"class\"].values"
   ]
  },
  {
   "cell_type": "code",
   "execution_count": 3,
   "id": "5d6be457",
   "metadata": {},
   "outputs": [],
   "source": [
    "# These are the best hyperparameters\n",
    "classifier = RandomForestClassifier(bootstrap=True, class_weight='balanced_subsample', \n",
    "                                    criterion='entropy', max_depth=20, max_features=None,\n",
    "                                    min_samples_leaf=1, min_samples_split=5, n_estimators=100)"
   ]
  },
  {
   "cell_type": "code",
   "execution_count": 5,
   "id": "d951f9af",
   "metadata": {},
   "outputs": [],
   "source": [
    "_ = classifier.fit(X, y)"
   ]
  },
  {
   "cell_type": "code",
   "execution_count": 43,
   "id": "4be85e3e",
   "metadata": {},
   "outputs": [],
   "source": [
    "probs = pd.Series(classifier.predict_proba(X)[:, 0], name=\"class_prob\")\n",
    "young = dfX[\"Age\"] <= 25\n",
    "woman = dfX[\"Sex\"] == 1\n",
    "foreign = dfX[\"foreign worker\"] == 1\n",
    "credit = 1 - dfY[\"class\"]\n",
    "table = pd.concat([young, woman, foreign, credit, probs], axis=1)"
   ]
  },
  {
   "cell_type": "code",
   "execution_count": 148,
   "id": "2fec6c9f",
   "metadata": {},
   "outputs": [],
   "source": [
    "def get_group_ratio(labels):\n",
    "    print(labels.sum())\n",
    "    print(f\"ratio young to old:\\t{(labels[young].sum() / labels[young].size) / (labels[~young].sum() / labels[~young].size)}\")\n",
    "    print(f\"ratio female to male:\\t{(labels[woman].sum() / labels[woman].size) / (labels[~woman].sum() / labels[~woman].size)}\")\n",
    "    print(f\"ratio foreign to else:\\t{(labels[foreign].sum() / labels[foreign].size) / (labels[~foreign].sum() / labels[~foreign].size)}\")"
   ]
  },
  {
   "cell_type": "code",
   "execution_count": 154,
   "id": "b653096b",
   "metadata": {},
   "outputs": [],
   "source": [
    "def adjust(criterion, labels, probs, p=1):\n",
    "    ratio = labels.sum() / labels.size\n",
    "    ratio_True = labels[criterion].sum() / labels[criterion].size\n",
    "    ratio_False = labels[~criterion].sum() / labels[~criterion].size\n",
    "    if ratio_True > ratio_False:\n",
    "        return adjust(~criterion, labels, probs)\n",
    "    # ratio = (ratio_True + ratio_False) / 2\n",
    "    n_True = round(labels[criterion].size * (ratio - ratio_True) * p)\n",
    "    n_False = round(labels[~criterion].size * (ratio_False - ratio) * p)\n",
    "    changed_True = labels.sort_values(key=lambda _: probs, ascending = False)[criterion & (labels == False)][:n_True].replace(0, value=1)\n",
    "    changed_False = labels.sort_values(key=lambda _: probs, ascending = True)[(~criterion) & (labels == True)][:n_False].replace(1, value=0)\n",
    "    labels.update(changed_True)\n",
    "    labels.update(changed_False)"
   ]
  },
  {
   "cell_type": "code",
   "execution_count": 169,
   "id": "55e2d156",
   "metadata": {},
   "outputs": [
    {
     "name": "stdout",
     "output_type": "stream",
     "text": [
      "== No adjustment ==\n",
      "700\n",
      "ratio young to old:\t0.7948260481712757\n",
      "ratio female to male:\t0.8965673282047968\n",
      "ratio foreign to else:\t0.7765820195726738\n",
      "ratio overall: \t\t0.7\n",
      "== With Adjustment ==\n",
      "699\n",
      "ratio young to old:\t0.97400795486079\n",
      "ratio female to male:\t0.9493745885450954\n",
      "ratio foreign to else:\t0.9945283169582235\n",
      "ratio overall: \t\t0.699\n"
     ]
    }
   ],
   "source": [
    "credit = 1 - dfY[\"class\"]\n",
    "print(\"== No adjustment ==\")\n",
    "get_group_ratio(credit)\n",
    "print(f\"ratio overall: \\t\\t{credit.sum() / credit.size}\")\n",
    "n = 100\n",
    "for i in range(n):\n",
    "    criteria = [young, woman, foreign]\n",
    "    random.shuffle(criteria)\n",
    "    for criterion in criteria:\n",
    "        adjust(criterion, credit, probs, p=i/n)\n",
    "    # print(f\"Adjustment round {i}\")\n",
    "print(\"== With Adjustment ==\")\n",
    "get_group_ratio(credit)\n",
    "print(f\"ratio overall: \\t\\t{credit.sum() / credit.size}\")"
   ]
  },
  {
   "cell_type": "code",
   "execution_count": 171,
   "id": "1ec57055",
   "metadata": {},
   "outputs": [],
   "source": [
    "(1 - credit).to_csv(\"data/y_adjusted.csv\")"
   ]
  },
  {
   "cell_type": "code",
   "execution_count": 186,
   "id": "bb26d7ba",
   "metadata": {},
   "outputs": [],
   "source": [
    "loo = LeaveOneOut()\n",
    "cv_results = cross_val_predict(classifier, X, (1 - credit).values, cv=loo)\n",
    "# save to csv to avoid re-run\n",
    "pd.DataFrame(cv_results).to_csv('cross_val_predictions_adjusted.csv')"
   ]
  },
  {
   "cell_type": "code",
   "execution_count": 187,
   "id": "cd985235",
   "metadata": {},
   "outputs": [
    {
     "name": "stdout",
     "output_type": "stream",
     "text": [
      "Test accuracy:\n",
      "0.776\n"
     ]
    }
   ],
   "source": [
    "print('Test accuracy:')\n",
    "print(accuracy_score(y, cv_results))"
   ]
  },
  {
   "cell_type": "code",
   "execution_count": 190,
   "id": "5d62ced9",
   "metadata": {},
   "outputs": [],
   "source": [
    "# Re-read X to get column names\n",
    "X = pd.read_csv(\"data/X.csv\", index_col=0)\n",
    "# Flip y indexing: 1 = credit granted, 0 = no credit granted\n",
    "cv_results = pd.read_csv('cross_val_predictions_adjusted.csv').iloc[:,1]\n",
    "pred = np.array(pd.DataFrame(cv_results).replace({0:1, 1:0}))"
   ]
  },
  {
   "cell_type": "code",
   "execution_count": 191,
   "id": "9a93523f",
   "metadata": {},
   "outputs": [
    {
     "name": "stdout",
     "output_type": "stream",
     "text": [
      "Women - men\n",
      "Discriminated group credit grant rate: 0.7387096774193549\n",
      "Other group credit grant rate: 0.755072463768116\n",
      "Difference: 0.016362786348761094\n",
      "Ratio: 0.9783295152002972\n",
      "\n",
      "Immigrant - non immigrant\n",
      "Discriminated group credit grant rate: 0.7455867082035307\n",
      "Other group credit grant rate: 0.8648648648648649\n",
      "Difference: 0.11927815666133423\n",
      "Ratio: 0.8620846313603323\n",
      "\n",
      "Young - old\n",
      "Discriminated group credit grant rate: 0.7052631578947368\n",
      "Other group credit grant rate: 0.7604938271604939\n",
      "Difference: 0.05523066926575704\n",
      "Ratio: 0.9273752563226246\n",
      "\n",
      "Woman immigrant - other\n",
      "Discriminated group credit grant rate: 0.7392739273927392\n",
      "Other group credit grant rate: 0.7546628407460545\n",
      "Difference: 0.01538891335331527\n",
      "Ratio: 0.979608226982394\n",
      "\n",
      "Young immigrant - other\n",
      "Discriminated group credit grant rate: 0.7058823529411765\n",
      "Other group credit grant rate: 0.7601476014760148\n",
      "Difference: 0.05426524853483827\n",
      "Ratio: 0.9286122215876642\n",
      "\n",
      "Young woman - other\n",
      "Discriminated group credit grant rate: 0.7142857142857143\n",
      "Other group credit grant rate: 0.7541899441340782\n",
      "Difference: 0.03990422984836395\n",
      "Ratio: 0.9470899470899471\n",
      "\n",
      "Young woman immigrant - other\n",
      "Discriminated group credit grant rate: 0.7115384615384616\n",
      "Other group credit grant rate: 0.7544642857142857\n",
      "Difference: 0.042925824175824134\n",
      "Ratio: 0.9431042330450615\n",
      "\n"
     ]
    }
   ],
   "source": [
    "# Implement group fairness measures (assume women being inferiorly treated to men,\n",
    "# immigrant inferiorly treated to nonimmigrant, and young to old (split at 25)).\n",
    "\n",
    "def group_fairness(group_split_condition):\n",
    "    discr_group = X[group_split_condition].index\n",
    "    other_group = X[~group_split_condition].index\n",
    "\n",
    "    # granted credit percentage for the discriminated\n",
    "    discr_group_rate = pred[discr_group].sum() / pred[discr_group].size\n",
    "    other_group_rate = pred[other_group].sum() / pred[other_group].size\n",
    "    print('Discriminated group credit grant rate: {}'.format(discr_group_rate))\n",
    "    print('Other group credit grant rate: {}'.format(other_group_rate))\n",
    "    print('Difference: {}'.format(other_group_rate-discr_group_rate))\n",
    "    print('Ratio: {}'.format(discr_group_rate/other_group_rate))\n",
    "    print()\n",
    "\n",
    "female_condition = X['Sex'] == 1\n",
    "immigrant_condition = X['foreign worker'] == 1\n",
    "young_condition = X['Age'] <= 25\n",
    "\n",
    "print('Women - men')\n",
    "group_fairness(female_condition)\n",
    "\n",
    "# immigrant - not immigrant\n",
    "print('Immigrant - non immigrant')\n",
    "group_fairness(immigrant_condition)\n",
    "\n",
    "# young - old\n",
    "print('Young - old')\n",
    "group_fairness(young_condition)\n",
    "\n",
    "# Intersection groups\n",
    "\n",
    "# woman immigrant - other\n",
    "print('Woman immigrant - other')\n",
    "group_fairness(female_condition & immigrant_condition)\n",
    "\n",
    "# young immigrant - other\n",
    "print('Young immigrant - other')\n",
    "group_fairness(young_condition & immigrant_condition)\n",
    "\n",
    "# young woman - other\n",
    "print('Young woman - other')\n",
    "group_fairness(young_condition & female_condition)\n",
    "\n",
    "# young woman immigrant - other\n",
    "print('Young woman immigrant - other')\n",
    "group_fairness(female_condition & young_condition & immigrant_condition)\n"
   ]
  }
 ],
 "metadata": {
  "kernelspec": {
   "display_name": "Python 3 (ipykernel)",
   "language": "python",
   "name": "python3"
  },
  "language_info": {
   "codemirror_mode": {
    "name": "ipython",
    "version": 3
   },
   "file_extension": ".py",
   "mimetype": "text/x-python",
   "name": "python",
   "nbconvert_exporter": "python",
   "pygments_lexer": "ipython3",
   "version": "3.8.8"
  },
  "varInspector": {
   "cols": {
    "lenName": 16,
    "lenType": 16,
    "lenVar": 40
   },
   "kernels_config": {
    "python": {
     "delete_cmd_postfix": "",
     "delete_cmd_prefix": "del ",
     "library": "var_list.py",
     "varRefreshCmd": "print(var_dic_list())"
    },
    "r": {
     "delete_cmd_postfix": ") ",
     "delete_cmd_prefix": "rm(",
     "library": "var_list.r",
     "varRefreshCmd": "cat(var_dic_list()) "
    }
   },
   "types_to_exclude": [
    "module",
    "function",
    "builtin_function_or_method",
    "instance",
    "_Feature"
   ],
   "window_display": false
  }
 },
 "nbformat": 4,
 "nbformat_minor": 5
}
