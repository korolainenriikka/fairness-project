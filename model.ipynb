{
 "cells": [
  {
   "cell_type": "code",
   "execution_count": 78,
   "id": "be709f4c",
   "metadata": {},
   "outputs": [],
   "source": [
    "from sklearn.ensemble import RandomForestClassifier\n",
    "from sklearn.model_selection import train_test_split\n",
    "from costcla.datasets import load_creditscoring1\n",
    "from costcla.models import CostSensitiveRandomForestClassifier\n",
    "from costcla.metrics import cost_loss\n",
    "from sklearn.metrics import accuracy_score\n",
    "\n",
    "import pandas as pd\n",
    "import numpy as np"
   ]
  },
  {
   "cell_type": "code",
   "execution_count": 84,
   "id": "649c8363",
   "metadata": {},
   "outputs": [],
   "source": [
    "X = pd.read_csv(\"data/X.csv\", index_col=0)\n",
    "y = pd.read_csv(\"data/y.csv\", index_col=0)\n",
    "cost_matrix = np.stack(y[\"class\"].apply(lambda i: np.array([5, 1, 0, 0]) if i == 0 else np.array([1, 5, 0, 0])))"
   ]
  },
  {
   "cell_type": "code",
   "execution_count": 115,
   "id": "8ab736d6",
   "metadata": {},
   "outputs": [],
   "source": [
    "X_train, X_test, y_train, y_test, mat_train, mat_test = train_test_split(X, y[\"class\"], cost_matrix, test_size=.15, random_state=16)"
   ]
  },
  {
   "cell_type": "code",
   "execution_count": 119,
   "id": "9f5bae5f",
   "metadata": {},
   "outputs": [
    {
     "name": "stdout",
     "output_type": "stream",
     "text": [
      "majority_voting : acc= 0.7 , saving= 0.0\n",
      "weighted_voting : acc= 0.7066666666666667 , saving= 0.022222222222222254\n",
      "stacking : acc= 0.26666666666666666 , saving= -1.4444444444444446\n",
      "stacking_proba : acc= 0.31333333333333335 , saving= -1.2888888888888888\n"
     ]
    }
   ],
   "source": [
    "for combination in ([\"majority_voting\", \"weighted_voting\", \"stacking\", \"stacking_proba\", \"stacking_bmr\", \"stacking_proba_bmr\", \"majority_bmr\", \"weighted_bmr\"]):\n",
    "    try: \n",
    "        f = CostSensitiveRandomForestClassifier(n_estimators = 100, combination = combination).fit(X_train.values, y_train.values, mat_train)\n",
    "        pred = f.predict(X_test.values)\n",
    "        print(combination,\": acc=\",accuracy_score(y_test.values, pred),\", saving=\",savings_score(y_test.values, pred, mat_test))\n",
    "    except Exception:\n",
    "        pass"
   ]
  },
  {
   "cell_type": "code",
   "execution_count": 177,
   "id": "7d36a3e8",
   "metadata": {},
   "outputs": [
    {
     "name": "stdout",
     "output_type": "stream",
     "text": [
      "weighted_bmr : acc= 0.78 , saving= 0.2666666666666667\n"
     ]
    }
   ],
   "source": [
    "pred_noncost = RandomForestClassifier(n_jobs=-1).fit(X_train.values, y_train.values).predict(X_test.values)\n",
    "print(combination,\": acc=\",accuracy_score(y_test.values, pred_noncost),\", saving=\",savings_score(y_test.values, pred_noncost, mat_test))"
   ]
  }
 ],
 "metadata": {
  "kernelspec": {
   "display_name": "fairness",
   "language": "python",
   "name": "fairness"
  },
  "language_info": {
   "codemirror_mode": {
    "name": "ipython",
    "version": 3
   },
   "file_extension": ".py",
   "mimetype": "text/x-python",
   "name": "python",
   "nbconvert_exporter": "python",
   "pygments_lexer": "ipython3",
   "version": "3.5.6"
  },
  "varInspector": {
   "cols": {
    "lenName": 16,
    "lenType": 16,
    "lenVar": 40
   },
   "kernels_config": {
    "python": {
     "delete_cmd_postfix": "",
     "delete_cmd_prefix": "del ",
     "library": "var_list.py",
     "varRefreshCmd": "print(var_dic_list())"
    },
    "r": {
     "delete_cmd_postfix": ") ",
     "delete_cmd_prefix": "rm(",
     "library": "var_list.r",
     "varRefreshCmd": "cat(var_dic_list()) "
    }
   },
   "types_to_exclude": [
    "module",
    "function",
    "builtin_function_or_method",
    "instance",
    "_Feature"
   ],
   "window_display": false
  }
 },
 "nbformat": 4,
 "nbformat_minor": 5
}
